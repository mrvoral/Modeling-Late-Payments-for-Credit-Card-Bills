{
  "nbformat": 4,
  "nbformat_minor": 0,
  "metadata": {
    "colab": {
      "name": "ModellingCreditCardPaymentTask3.ipynb",
      "provenance": [],
      "authorship_tag": "ABX9TyNTGT4lRbPeROWVsCivUwVC"
    },
    "kernelspec": {
      "name": "python3",
      "display_name": "Python 3"
    },
    "language_info": {
      "name": "python"
    }
  },
  "cells": [
    {
      "cell_type": "code",
      "metadata": {
        "id": "93ELK_zpfik2"
      },
      "source": [
        "import numpy as np\n",
        "import pandas as pd\n",
        "from sklearn.ensemble import RandomForestClassifier\n",
        "from sklearn.model_selection import RandomizedSearchCV\n",
        "from sklearn.impute import SimpleImputer\n",
        "from sklearn.preprocessing import OneHotEncoder\n",
        "from sklearn.compose import ColumnTransformer\n",
        "from sklearn.pipeline import Pipeline"
      ],
      "execution_count": 94,
      "outputs": []
    },
    {
      "cell_type": "code",
      "metadata": {
        "id": "nSSEjSyPv_eV"
      },
      "source": [
        "#import the data and the labels\n",
        "\n",
        "url3='https://raw.githubusercontent.com/mrvoral/Modeling-Late-Payments-for-Credit-Card-Bills/main/hw07_target3_training_data.csv'\n",
        "df3 = pd.read_csv(url3)\n"
      ],
      "execution_count": 96,
      "outputs": []
    },
    {
      "cell_type": "code",
      "metadata": {
        "id": "iadNsE4VmbxT"
      },
      "source": [
        "#import labels\n",
        "label_url3='https://raw.githubusercontent.com/mrvoral/Modeling-Late-Payments-for-Credit-Card-Bills/main/hw07_target3_training_label.csv'\n",
        "Labels3 = pd.read_csv(label_url3)\n"
      ],
      "execution_count": 97,
      "outputs": []
    },
    {
      "cell_type": "code",
      "metadata": {
        "id": "0MeOfzv2y7GK"
      },
      "source": [
        "test_url3='https://raw.githubusercontent.com/mrvoral/Modeling-Late-Payments-for-Credit-Card-Bills/main/hw07_target3_test_data.csv'\n",
        "X_test3=pd.read_csv(test_url3)\n"
      ],
      "execution_count": 98,
      "outputs": []
    },
    {
      "cell_type": "markdown",
      "metadata": {
        "id": "ynxr5gLZ-o_0"
      },
      "source": [
        "#  Deal with NaNs"
      ]
    },
    {
      "cell_type": "code",
      "metadata": {
        "id": "Ylcv0VCN-4V0"
      },
      "source": [
        "def missing_values_table(df):\n",
        "    mis_val = df.isnull().sum()\n",
        "    mis_val_percent = 100 * df.isna().sum() / len(df)\n",
        "    mis_val_table = pd.concat([mis_val, mis_val_percent], axis=1)\n",
        "    mis_val_table_ren_columns = mis_val_table.rename(\n",
        "    columns = {0 : 'Missing Values', 1 : '% of Total Values'})\n",
        "    mis_val_table_ren_columns = mis_val_table_ren_columns[\n",
        "        mis_val_table_ren_columns.iloc[:,1] != 0].sort_values(\n",
        "    '% of Total Values', ascending=False).round(1)\n",
        "    print (\"Your selected dataframe has \" + str(df.shape[1]) + \" columns.\\n\"      \n",
        "        \"There are \" + str(mis_val_table_ren_columns.shape[0]) +\n",
        "            \" columns that have missing values.\")\n",
        "    return mis_val_table_ren_columns"
      ],
      "execution_count": 99,
      "outputs": []
    },
    {
      "cell_type": "code",
      "metadata": {
        "colab": {
          "base_uri": "https://localhost:8080/"
        },
        "id": "0cLdIssz_BSD",
        "outputId": "feaadd8c-2b4c-4100-af7f-b47f6434ee74"
      },
      "source": [
        "missing_values=missing_values_table(df3)"
      ],
      "execution_count": 100,
      "outputs": [
        {
          "output_type": "stream",
          "name": "stdout",
          "text": [
            "Your selected dataframe has 203 columns.\n",
            "There are 68 columns that have missing values.\n"
          ]
        }
      ]
    },
    {
      "cell_type": "code",
      "metadata": {
        "id": "0tr30nA__0r-"
      },
      "source": [
        "throw_variables=missing_values[missing_values['% of Total Values']>55]\n",
        "keep_variables=missing_values[missing_values['% of Total Values']<=55]"
      ],
      "execution_count": 101,
      "outputs": []
    },
    {
      "cell_type": "code",
      "metadata": {
        "id": "5FnnGneogrf7"
      },
      "source": [
        ""
      ],
      "execution_count": 101,
      "outputs": []
    },
    {
      "cell_type": "code",
      "metadata": {
        "id": "9YJgUrWedGpQ"
      },
      "source": [
        "#drop mostly na features\n",
        "\n",
        "df3= df3.drop(columns=[row for row in throw_variables.index])\n",
        "\n",
        "# df3= df3.drop(columns=[\"VAR36\",\"VAR153\"])\n",
        "\n",
        "#drop mostly na features\n",
        "X_test3= X_test3.drop(columns=[row for row in throw_variables.index])\n",
        "X_test3= X_test3.drop(columns=[\"VAR36\",\"VAR153\"])\n",
        "\n",
        "\n",
        "# #fill not-a-numbers with the median\n",
        "X_test3.fillna(X_test3.median(), inplace=True)\n",
        "\n",
        "\n",
        "\n",
        "# #fill not-a-numbers with the median\n",
        "df3.fillna(df3.median(), inplace=True)\n",
        "\n",
        "\n",
        "\n",
        "\n",
        "Y3=np.array(Labels3)[:,1]\n",
        "\n"
      ],
      "execution_count": 102,
      "outputs": []
    },
    {
      "cell_type": "code",
      "metadata": {
        "id": "XVD9FFyeCk01"
      },
      "source": [
        "\n",
        "numerical_cols =[ind for ind in keep_variables.index if ind not in [\"VAR36\",\"VAR153\"]]\n",
        "categorical_cols =  [\"VAR36\",\"VAR153\"]\n",
        "df3= df3.drop(columns=categorical_cols)\n",
        "X_train=df3\n",
        "\n",
        "\n",
        "# Inputing numerical values with median\n",
        "numerical_transformer = SimpleImputer(strategy='median')\n",
        "# # Inputing missing values with most frequent one for categorical data\n",
        "# categorical_transformer = Pipeline(steps=[\n",
        "#     ('imputer', SimpleImputer(strategy='most_frequent')),\n",
        "#     ('onehot', OneHotEncoder(handle_unknown='ignore'))\n",
        "# ])\n",
        "\n",
        "# Bundle preprocessing for numerical and categorical data\n",
        "preprocessor = ColumnTransformer(\n",
        "    transformers=[\n",
        "        ('num', numerical_transformer, numerical_cols)\n",
        "       # ,        ('cat', categorical_transformer, categorical_cols)\n",
        "    ])\n",
        "\n",
        "\n",
        "preprocess_pipeline=Pipeline(steps=[\n",
        "    ('preprocessor', preprocessor)\n",
        "])\n",
        "X_train_temp=preprocess_pipeline.fit_transform(X_train)\n",
        "\n"
      ],
      "execution_count": 103,
      "outputs": []
    },
    {
      "cell_type": "code",
      "metadata": {
        "id": "UhgC3RrizzJX"
      },
      "source": [
        "# train a random forest\n",
        "rfc=RandomForestClassifier()#n_estimators=80,max_depth=7)\n"
      ],
      "execution_count": 104,
      "outputs": []
    },
    {
      "cell_type": "markdown",
      "metadata": {
        "id": "KklBTgeWzohU"
      },
      "source": [
        "## Hyperparameter Search for Target 3\n",
        "\n"
      ]
    },
    {
      "cell_type": "code",
      "metadata": {
        "id": "nCUseanozhbA"
      },
      "source": [
        "# Number of trees in Random Forest\n",
        "rf_n_estimators = [int(x) for x in np.linspace(10, 80, 10)]\n",
        "\n",
        "# Maximum number of levels in tree\n",
        "rf_max_depth = [int(x) for x in np.linspace(3, 7, 3)]\n",
        "# # Add the default as a possible value\n",
        "rf_max_depth.append(None)\n",
        "\n",
        "# Number of features to consider at every split\n",
        "rf_max_features = ['auto', 'sqrt', 'log2']\n",
        "\n",
        "# Criterion to split on\n",
        "rf_criterion = ['entropy']#,'gini' ]\n",
        "\n",
        "# Minimum number of samples required to split a node\n",
        "rf_min_samples_split = [int(x) for x in np.linspace(2, 10, 3)]\n",
        "\n",
        "# Minimum decrease in impurity required for split to happen\n",
        "rf_min_impurity_decrease = [0.0, 0.05, 0.5]\n",
        "\n",
        "# Method of selecting samples for training each tree\n",
        "rf_bootstrap = [True]#, False]\n",
        "\n",
        "# Create the grid\n",
        "rf_grid = {'n_estimators': rf_n_estimators,\n",
        "               'max_depth': rf_max_depth,\n",
        "               'max_features': rf_max_features,\n",
        "               'criterion': rf_criterion,\n",
        "               'min_samples_split': rf_min_samples_split,\n",
        "               'min_impurity_decrease': rf_min_impurity_decrease,\n",
        "               'bootstrap': rf_bootstrap}\n",
        "\n",
        "clf3 = RandomizedSearchCV(rfc, rf_grid, n_iter=100, random_state=0)\n",
        "\n"
      ],
      "execution_count": 105,
      "outputs": []
    },
    {
      "cell_type": "code",
      "metadata": {
        "colab": {
          "base_uri": "https://localhost:8080/"
        },
        "id": "NiVVzbGB7GtQ",
        "outputId": "d989244a-62cb-4add-b574-24d13b8ce3bd"
      },
      "source": [
        "search3 = clf3.fit(df3, Y3)\n",
        "search3.best_params_\n"
      ],
      "execution_count": 106,
      "outputs": [
        {
          "output_type": "execute_result",
          "data": {
            "text/plain": [
              "{'bootstrap': True,\n",
              " 'criterion': 'entropy',\n",
              " 'max_depth': 7,\n",
              " 'max_features': 'auto',\n",
              " 'min_impurity_decrease': 0.0,\n",
              " 'min_samples_split': 10,\n",
              " 'n_estimators': 80}"
            ]
          },
          "metadata": {},
          "execution_count": 106
        }
      ]
    },
    {
      "cell_type": "code",
      "metadata": {
        "id": "EZPvvub8i891"
      },
      "source": [
        "best_params=search3.best_params_\n",
        "# best_params={'bootstrap': True,\n",
        "#  'criterion': 'entropy',\n",
        "#  'max_depth': 5,\n",
        "#  'max_features': 'auto',\n",
        "#  'min_impurity_decrease': 0.0,\n",
        "#  'min_samples_split': 0.1,\n",
        "#  'n_estimators': 80}"
      ],
      "execution_count": 107,
      "outputs": []
    },
    {
      "cell_type": "code",
      "metadata": {
        "id": "bYyoSChpi_B0"
      },
      "source": [
        "# Bundle preprocessing and modeling code \n",
        "pipeline = Pipeline(steps=[\n",
        "    ('preprocessor', preprocessor),\n",
        "    ('model', RandomForestClassifier(**best_params))\n",
        "])\n"
      ],
      "execution_count": 108,
      "outputs": []
    },
    {
      "cell_type": "code",
      "metadata": {
        "id": "ctsj_FrBx3YC",
        "colab": {
          "base_uri": "https://localhost:8080/"
        },
        "outputId": "f6ff6452-d403-413e-eb1c-dbd23519c9ac"
      },
      "source": [
        "#fit and evaluate posterior for training set\n",
        "#Y_rf = rfc.fit(X, Y)\n",
        "# Y_pred=rfc.predict_proba(X)[:,1]\n",
        "pipeline.fit(X_train, Y3)\n",
        "Y_pred3=pipeline.predict_proba(X_train)[:,1]\n",
        "# Y_rf2 = rfc2.fit(X2, Y2)\n",
        "# Y_pred2=rfc2.predict_proba(X2)[:,1]\n",
        "# Y_rf3 = rfc3.fit(X3, Y3)\n",
        "# Y_pred3=rfc3.predict_proba(X3)[:,1]\n",
        "\n",
        "\n",
        "#rfc.best_params_\n",
        "#calculate mean auroc using 10-fold cross validation\n",
        "from sklearn.model_selection import cross_validate\n",
        "scores = cross_validate(pipeline, X_train, Y3, cv=5, scoring=('roc_auc'), return_train_score=True)\n",
        "print(\"Mean AUROC for target 1 is:\")\n",
        "print(np.mean(scores['test_score']))\n",
        "\n",
        "# evaluate posteriors on the test set\n",
        "# Y_test3=Y_rf3.predict_proba(X_test3)\n",
        "# #concatanate with ID\n",
        "# Y_o3=np.concatenate((np.array(X_test3[\"ID\"]).reshape((-1,1)),Y_test3[:,1].reshape((-1,1))),1)\n",
        "\n",
        "# write predictions to csv files\n",
        "# pd.DataFrame(Y_o3).to_csv(\"hw07_target3_test_predictions.csv\",header=[\"ID\",\"TARGET\"],index=None)\n",
        "\n"
      ],
      "execution_count": 109,
      "outputs": [
        {
          "output_type": "stream",
          "name": "stdout",
          "text": [
            "Mean AUROC for target 1 is:\n",
            "0.7687914557124491\n"
          ]
        }
      ]
    },
    {
      "cell_type": "code",
      "metadata": {
        "id": "tMylG-pxhtdt",
        "colab": {
          "base_uri": "https://localhost:8080/"
        },
        "outputId": "281cbbaf-f5db-4616-8a93-12311e07832e"
      },
      "source": [
        "scores['test_score']"
      ],
      "execution_count": 110,
      "outputs": [
        {
          "output_type": "execute_result",
          "data": {
            "text/plain": [
              "array([0.75810926, 0.77011721, 0.78299854, 0.74998968, 0.78274259])"
            ]
          },
          "metadata": {},
          "execution_count": 110
        }
      ]
    },
    {
      "cell_type": "code",
      "metadata": {
        "id": "dr_45o7xhuWO",
        "colab": {
          "base_uri": "https://localhost:8080/"
        },
        "outputId": "4193531a-78e5-4ed3-96ac-619a03798050"
      },
      "source": [
        "scores['train_score']"
      ],
      "execution_count": 111,
      "outputs": [
        {
          "output_type": "execute_result",
          "data": {
            "text/plain": [
              "array([0.93703495, 0.93878837, 0.94463595, 0.9435447 , 0.93986605])"
            ]
          },
          "metadata": {},
          "execution_count": 111
        }
      ]
    },
    {
      "cell_type": "code",
      "metadata": {
        "id": "MWmrRhQUKf-b"
      },
      "source": [
        "# plot ROC curve\n",
        "from sklearn import metrics\n",
        "fpr3, tpr3, threshold = metrics.roc_curve(Y3, Y_pred3)\n"
      ],
      "execution_count": 112,
      "outputs": []
    },
    {
      "cell_type": "code",
      "metadata": {
        "colab": {
          "base_uri": "https://localhost:8080/",
          "height": 294
        },
        "id": "def5C4LIKZk_",
        "outputId": "cf5d9009-6c07-4bca-8697-8803caec9772"
      },
      "source": [
        "import matplotlib.pyplot as plt\n",
        "plt.title('Receiver Operating Characteristic for target 3')\n",
        "plt.plot(fpr3, tpr3, 'g')\n",
        "plt.ylabel('True Positive Rate')\n",
        "plt.xlabel('False Positive Rate')\n",
        "plt.show()"
      ],
      "execution_count": 113,
      "outputs": [
        {
          "output_type": "display_data",
          "data": {
            "image/png": "[encoded data removed]",
            "text/plain": [
              "<Figure size 432x288 with 1 Axes>"
            ]
          },
          "metadata": {
            "needs_background": "light"
          }
        }
      ]
    },
    {
      "cell_type": "code",
      "metadata": {
        "id": "SzbH2z3SK7bY"
      },
      "source": [
        ""
      ],
      "execution_count": 113,
      "outputs": []
    }
  ]
}