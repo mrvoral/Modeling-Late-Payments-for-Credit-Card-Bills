{
  "nbformat": 4,
  "nbformat_minor": 0,
  "metadata": {
    "colab": {
      "name": "ModellingCreditCardPaymentTask1.ipynb",
      "provenance": [],
      "collapsed_sections": [],
      "authorship_tag": "ABX9TyMZG5jx57ss3KfXZrlNvujV"
    },
    "kernelspec": {
      "name": "python3",
      "display_name": "Python 3"
    },
    "language_info": {
      "name": "python"
    }
  },
  "cells": [
    {
      "cell_type": "code",
      "metadata": {
        "id": "93ELK_zpfik2"
      },
      "source": [
        "import numpy as np\n",
        "import pandas as pd\n",
        "from sklearn.ensemble import RandomForestClassifier\n",
        "from sklearn.model_selection import RandomizedSearchCV\n",
        "from sklearn.impute import SimpleImputer\n",
        "from sklearn.preprocessing import OneHotEncoder\n",
        "from sklearn.compose import ColumnTransformer\n",
        "from sklearn.pipeline import Pipeline"
      ],
      "execution_count": 1,
      "outputs": []
    },
    {
      "cell_type": "code",
      "metadata": {
        "id": "nSSEjSyPv_eV"
      },
      "source": [
        "#import the data and the labels\n",
        "url1='https://raw.githubusercontent.com/mrvoral/Modeling-Late-Payments-for-Credit-Card-Bills/main/hw07_target1_training_data.csv'\n",
        "df = pd.read_csv(url1)\n"
      ],
      "execution_count": 2,
      "outputs": []
    },
    {
      "cell_type": "code",
      "metadata": {
        "id": "iadNsE4VmbxT"
      },
      "source": [
        "#import labels\n",
        "label_url1='https://raw.githubusercontent.com/mrvoral/Modeling-Late-Payments-for-Credit-Card-Bills/main/hw07_target1_training_label.csv'\n",
        "Labels = pd.read_csv(label_url1)\n"
      ],
      "execution_count": 3,
      "outputs": []
    },
    {
      "cell_type": "code",
      "metadata": {
        "id": "0MeOfzv2y7GK"
      },
      "source": [
        "test_url1='https://raw.githubusercontent.com/mrvoral/Modeling-Late-Payments-for-Credit-Card-Bills/main/hw07_target1_test_data.csv'\n",
        "X_test=pd.read_csv(test_url1)"
      ],
      "execution_count": 4,
      "outputs": []
    },
    {
      "cell_type": "markdown",
      "metadata": {
        "id": "ynxr5gLZ-o_0"
      },
      "source": [
        "#  Deal with NaNs"
      ]
    },
    {
      "cell_type": "code",
      "metadata": {
        "id": "Ylcv0VCN-4V0"
      },
      "source": [
        "def missing_values_table(df):\n",
        "    mis_val = df.isnull().sum()\n",
        "    mis_val_percent = 100 * df.isna().sum() / len(df)\n",
        "    mis_val_table = pd.concat([mis_val, mis_val_percent], axis=1)\n",
        "    mis_val_table_ren_columns = mis_val_table.rename(\n",
        "    columns = {0 : 'Missing Values', 1 : '% of Total Values'})\n",
        "    mis_val_table_ren_columns = mis_val_table_ren_columns[\n",
        "        mis_val_table_ren_columns.iloc[:,1] != 0].sort_values(\n",
        "    '% of Total Values', ascending=False).round(1)\n",
        "    print (\"Your selected dataframe has \" + str(df.shape[1]) + \" columns.\\n\"      \n",
        "        \"There are \" + str(mis_val_table_ren_columns.shape[0]) +\n",
        "            \" columns that have missing values.\")\n",
        "    return mis_val_table_ren_columns"
      ],
      "execution_count": 5,
      "outputs": []
    },
    {
      "cell_type": "code",
      "metadata": {
        "colab": {
          "base_uri": "https://localhost:8080/"
        },
        "id": "0cLdIssz_BSD",
        "outputId": "99e876d7-7748-43c6-9883-43b51ef2d8eb"
      },
      "source": [
        "missing_values=missing_values_table(df)"
      ],
      "execution_count": 6,
      "outputs": [
        {
          "output_type": "stream",
          "name": "stdout",
          "text": [
            "Your selected dataframe has 163 columns.\n",
            "There are 76 columns that have missing values.\n"
          ]
        }
      ]
    },
    {
      "cell_type": "code",
      "metadata": {
        "id": "0tr30nA__0r-"
      },
      "source": [
        "throw_variables=missing_values[missing_values['% of Total Values']>55]\n",
        "keep_variables=missing_values[missing_values['% of Total Values']<=55]"
      ],
      "execution_count": 7,
      "outputs": []
    },
    {
      "cell_type": "code",
      "metadata": {
        "colab": {
          "base_uri": "https://localhost:8080/"
        },
        "id": "b8koMeivACpO",
        "outputId": "9d0578f2-cd4d-41d9-f7a2-a34243d21bf6"
      },
      "source": [
        "# iterating the columns\n",
        "for row in throw_variables.index:\n",
        "    print(row, end = \" \")"
      ],
      "execution_count": 8,
      "outputs": [
        {
          "output_type": "stream",
          "name": "stdout",
          "text": [
            "VAR77 VAR74 VAR95 VAR69 VAR64 VAR160 VAR5 VAR3 "
          ]
        }
      ]
    },
    {
      "cell_type": "code",
      "metadata": {
        "id": "9YJgUrWedGpQ"
      },
      "source": [
        "#drop mostly na features\n",
        "df= df.drop(columns=[\"VAR77\", \"VAR74\", \"VAR95\", \"VAR69\", \"VAR64\", \"VAR160\", \"VAR5\",\"VAR3\"])\n",
        "\n",
        "#drop mostly na features\n",
        "X_test= X_test.drop(columns=[\"VAR77\", \"VAR74\", \"VAR95\", \"VAR69\", \"VAR64\", \"VAR160\", \"VAR5\",\"VAR3\"])\n",
        "\n",
        "\n",
        "numerical_cols =[ind for ind in keep_variables.index if ind not in [\"VAR45\",\"VAR47\",\"VAR75\"]]\n",
        "categorical_cols = [\"VAR45\",\"VAR47\",\"VAR75\"]\n",
        "df= df.drop(columns=categorical_cols)\n",
        "\n",
        "\n",
        "#categorical_cols = [\"VAR45\",\"VAR47\",\"VAR75\"]\n",
        "\n",
        "#fill not-a-numbers with the median\n",
        "X_test.fillna(X_test.median(), inplace=True)\n",
        "\n",
        "\n",
        "#fill not-a-numbers with the median\n",
        "df.fillna(df.median(), inplace=True)\n",
        "\n",
        "X_train=df\n",
        "\n",
        "X_test= X_test.drop(columns=categorical_cols)\n",
        "\n",
        "Y=np.array(Labels)[:,1]\n",
        "\n",
        "\n"
      ],
      "execution_count": 9,
      "outputs": []
    },
    {
      "cell_type": "code",
      "metadata": {
        "id": "XVD9FFyeCk01"
      },
      "source": [
        "\n",
        "\n",
        "# Inputing numerical values with median\n",
        "# numerical_transformer = SimpleImputer(strategy='median')\n",
        "# # Inputing missing values with most frequent one for categorical data\n",
        "# categorical_transformer = Pipeline(steps=[\n",
        "#     ('imputer', SimpleImputer(strategy='most_frequent')),\n",
        "#     ('onehot', OneHotEncoder(handle_unknown='ignore'))\n",
        "# ])\n",
        "\n",
        "# # Bundle preprocessing for numerical and categorical data\n",
        "# preprocessor = ColumnTransformer(\n",
        "#     transformers=[\n",
        "#         ('num', numerical_transformer, numerical_cols)\n",
        "#        # ,        ('cat', categorical_transformer, categorical_cols)\n",
        "#     ])\n",
        "\n",
        "\n",
        "# preprocess_pipeline=Pipeline(steps=[\n",
        "#     ('preprocessor', preprocessor)\n",
        "# ])\n",
        "# X_train_temp=preprocess_pipeline.fit_transform(X_train)\n",
        "\n"
      ],
      "execution_count": 10,
      "outputs": []
    },
    {
      "cell_type": "markdown",
      "metadata": {
        "id": "sRPyAFa7zvP3"
      },
      "source": [
        "## Hyperparameter Search for Target 1\n"
      ]
    },
    {
      "cell_type": "code",
      "metadata": {
        "colab": {
          "base_uri": "https://localhost:8080/"
        },
        "id": "7Q1LYyfjyt_t",
        "outputId": "ae5d6e09-4846-49e0-b40f-89f8e417ae9a"
      },
      "source": [
        "\n",
        "# Number of trees in Random Forest\n",
        "rf_n_estimators = [int(x) for x in np.linspace(50, 150, 10)]\n",
        "rf_n_estimators.append(300)\n",
        "rf_n_estimators.append(400)\n",
        "\n",
        "# Maximum number of levels in tree\n",
        "rf_max_depth = [int(x) for x in np.linspace(5, 11, 3)]\n",
        "# Add the default as a possible value\n",
        "rf_max_depth.append(None)\n",
        "\n",
        "# Number of features to consider at every split\n",
        "rf_max_features = ['auto', 'sqrt', 'log2']\n",
        "\n",
        "# Criterion to split on\n",
        "rf_criterion = ['gini', 'entropy']\n",
        "\n",
        "# Minimum number of samples required to split a node\n",
        "rf_min_samples_split = [int(x) for x in np.linspace(2, 6, 2)]\n",
        "\n",
        "# Minimum decrease in impurity required for split to happen\n",
        "rf_min_impurity_decrease = [0.0, 0.05, 0.5]\n",
        "\n",
        "# Since the data is huge, no need to turn off bootstrapping\n",
        "# # Method of selecting samples for training each tree\n",
        "rf_bootstrap = [True]#, False]\n",
        "\n",
        "# Create the grid\n",
        "rf_grid = {'n_estimators': rf_n_estimators,\n",
        "               'max_depth': rf_max_depth,\n",
        "               'max_features': rf_max_features,\n",
        "               'criterion': rf_criterion,\n",
        "               'min_samples_split': rf_min_samples_split,\n",
        "               'min_impurity_decrease': rf_min_impurity_decrease,\n",
        "               'bootstrap': rf_bootstrap}\n",
        "\n",
        "\n",
        "clf = RandomizedSearchCV(RandomForestClassifier(), rf_grid, n_iter=100, random_state=0)\n",
        "search = clf.fit(X_train,Y)\n",
        "search.best_params_\n"
      ],
      "execution_count": 12,
      "outputs": [
        {
          "output_type": "execute_result",
          "data": {
            "text/plain": [
              "{'bootstrap': True,\n",
              " 'criterion': 'entropy',\n",
              " 'max_depth': 11,\n",
              " 'max_features': 'sqrt',\n",
              " 'min_impurity_decrease': 0.0,\n",
              " 'min_samples_split': 6,\n",
              " 'n_estimators': 300}"
            ]
          },
          "metadata": {},
          "execution_count": 12
        }
      ]
    },
    {
      "cell_type": "code",
      "metadata": {
        "id": "18U_hvA2IK2A"
      },
      "source": [
        "best_params={'bootstrap': True,\n",
        " 'criterion': 'entropy',\n",
        " 'max_depth': 7,\n",
        " 'max_features': 'auto',\n",
        " 'min_impurity_decrease': 0.0,\n",
        " 'min_samples_split': 6,\n",
        " 'n_estimators': 80}\n",
        "\n",
        "best_params=search.best_params_"
      ],
      "execution_count": 14,
      "outputs": []
    },
    {
      "cell_type": "code",
      "metadata": {
        "id": "Hlm70wsgBg5j"
      },
      "source": [
        "# # Bundle preprocessing and modeling code \n",
        "# pipeline = Pipeline(steps=[\n",
        "#     ('preprocessor', preprocessor),\n",
        "#     ('model', RandomForestClassifier(**best_params))\n",
        "# ])\n",
        "\n",
        "rfc=RandomForestClassifier(**best_params)\n",
        "# rfc=RandomForestClassifier(n_estimators=80,max_depth=7)"
      ],
      "execution_count": 15,
      "outputs": []
    },
    {
      "cell_type": "code",
      "metadata": {
        "colab": {
          "base_uri": "https://localhost:8080/"
        },
        "id": "ctsj_FrBx3YC",
        "outputId": "5b1157a4-6a14-41bc-bfdd-6e85a4966309"
      },
      "source": [
        "#fit and evaluate posterior for training set\n",
        "#Y_rf = rfc.fit(X, Y)\n",
        "#Y_pred=rfc.predict_proba(X)[:,1]\n",
        "Y_rf=rfc.fit(X_train, Y)\n",
        "Y_pred=rfc.predict_proba(X_train)[:,1]\n",
        "\n",
        "#rfc.best_params_\n",
        "#calculate mean auroc using 10-fold cross validation\n",
        "from sklearn.model_selection import cross_validate\n",
        "scores = cross_validate(rfc, X_train, Y, cv=5, scoring=('roc_auc'), return_train_score=True)\n",
        "print(\"Mean AUROC for target 1 is:\")\n",
        "print(np.mean(scores['test_score']))\n",
        "\n",
        "\n",
        "# evaluate posteriors on the test set\n",
        "# Y_test=Y_rf.predict_proba(X_test)\n",
        "#concatanate with ID\n",
        "# Y_o=np.concatenate((np.array(X_test[\"ID\"]).reshape((-1,1)),Y_test[:,1].reshape((-1,1))),1)\n",
        "\n",
        "\n",
        "# write predictions to csv files\n",
        "# pd.DataFrame(Y_o).to_csv(\"hw07_target1_test_predictions.csv\",header=[\"ID\",\"TARGET\"],index=None)\n",
        "\n"
      ],
      "execution_count": 16,
      "outputs": [
        {
          "output_type": "stream",
          "name": "stdout",
          "text": [
            "Mean AUROC for target 1 is:\n",
            "0.9040691265871088\n"
          ]
        }
      ]
    },
    {
      "cell_type": "code",
      "metadata": {
        "colab": {
          "base_uri": "https://localhost:8080/"
        },
        "id": "JbSSEnVPaqVr",
        "outputId": "d20b2763-d4fa-49e4-9c62-a45f8fa49687"
      },
      "source": [
        "scores['test_score']"
      ],
      "execution_count": 18,
      "outputs": [
        {
          "output_type": "execute_result",
          "data": {
            "text/plain": [
              "array([0.90697074, 0.892537  , 0.91133293, 0.90125013, 0.90825483])"
            ]
          },
          "metadata": {},
          "execution_count": 18
        }
      ]
    },
    {
      "cell_type": "code",
      "metadata": {
        "colab": {
          "base_uri": "https://localhost:8080/"
        },
        "id": "UsQRJMpsatAL",
        "outputId": "c2f49444-cc9d-4688-bac1-d21c44b6a48c"
      },
      "source": [
        "scores['train_score']"
      ],
      "execution_count": 19,
      "outputs": [
        {
          "output_type": "execute_result",
          "data": {
            "text/plain": [
              "array([0.99115953, 0.99046034, 0.99033227, 0.9909715 , 0.99032443])"
            ]
          },
          "metadata": {},
          "execution_count": 19
        }
      ]
    },
    {
      "cell_type": "code",
      "metadata": {
        "colab": {
          "base_uri": "https://localhost:8080/"
        },
        "id": "oI5HWQCiUd5u",
        "outputId": "0e41abbc-cbe4-4fb2-b8fb-4059213bec56"
      },
      "source": [
        "from sklearn import metrics\n",
        "metrics.confusion_matrix(Y, Y_pred>0.5)"
      ],
      "execution_count": 20,
      "outputs": [
        {
          "output_type": "execute_result",
          "data": {
            "text/plain": [
              "array([[9242,  117],\n",
              "       [ 399, 1242]])"
            ]
          },
          "metadata": {},
          "execution_count": 20
        }
      ]
    },
    {
      "cell_type": "code",
      "metadata": {
        "colab": {
          "base_uri": "https://localhost:8080/",
          "height": 294
        },
        "id": "dg0KOp7FRYja",
        "outputId": "07966029-83f3-434c-f7fb-bfc3e4d00a3f"
      },
      "source": [
        "# plot ROC curve\n",
        "\n",
        "fpr, tpr, threshold = metrics.roc_curve(Y, Y_pred)\n",
        "\n",
        "\n",
        "import matplotlib.pyplot as plt\n",
        "plt.title('Receiver Operating Characteristic for target 1')\n",
        "plt.plot(fpr, tpr, 'b')\n",
        "plt.ylabel('True Positive Rate')\n",
        "plt.xlabel('False Positive Rate')\n",
        "plt.show()\n"
      ],
      "execution_count": 21,
      "outputs": [
        {
          "output_type": "display_data",
          "data": {
            "image/png": "[encoded data removed]",
            "text/plain": [
              "<Figure size 432x288 with 1 Axes>"
            ]
          },
          "metadata": {
            "needs_background": "light"
          }
        }
      ]
    }
  ]
}