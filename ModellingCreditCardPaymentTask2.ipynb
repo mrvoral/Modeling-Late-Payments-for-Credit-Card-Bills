{
  "nbformat": 4,
  "nbformat_minor": 0,
  "metadata": {
    "colab": {
      "name": "ModellingCreditCardPaymentTask2.ipynb",
      "provenance": [],
      "authorship_tag": "ABX9TyNO4RK0GnQcOlFrqh/KxJCy"
    },
    "kernelspec": {
      "name": "python3",
      "display_name": "Python 3"
    },
    "language_info": {
      "name": "python"
    }
  },
  "cells": [
    {
      "cell_type": "code",
      "metadata": {
        "id": "93ELK_zpfik2"
      },
      "source": [
        "import numpy as np\n",
        "import pandas as pd\n",
        "from sklearn.ensemble import RandomForestClassifier\n",
        "from sklearn.model_selection import RandomizedSearchCV\n",
        "from sklearn.impute import SimpleImputer\n",
        "from sklearn.preprocessing import OneHotEncoder\n",
        "from sklearn.compose import ColumnTransformer\n",
        "from sklearn.pipeline import Pipeline"
      ],
      "execution_count": 12,
      "outputs": []
    },
    {
      "cell_type": "code",
      "metadata": {
        "id": "nSSEjSyPv_eV"
      },
      "source": [
        "#import the data and the labels\n",
        "url2='https://raw.githubusercontent.com/mrvoral/Modeling-Late-Payments-for-Credit-Card-Bills/main/hw07_target2_training_data.csv'\n",
        "df2 = pd.read_csv(url2)\n"
      ],
      "execution_count": 14,
      "outputs": []
    },
    {
      "cell_type": "code",
      "metadata": {
        "id": "iadNsE4VmbxT"
      },
      "source": [
        "#import labels\n",
        "label_url2='https://raw.githubusercontent.com/mrvoral/Modeling-Late-Payments-for-Credit-Card-Bills/main/hw07_target2_training_label.csv'\n",
        "Labels2 = pd.read_csv(label_url2)"
      ],
      "execution_count": 15,
      "outputs": []
    },
    {
      "cell_type": "code",
      "metadata": {
        "id": "0MeOfzv2y7GK"
      },
      "source": [
        "test_url2='https://raw.githubusercontent.com/mrvoral/Modeling-Late-Payments-for-Credit-Card-Bills/main/hw07_target2_test_data.csv'\n",
        "X_test2=pd.read_csv(test_url2)"
      ],
      "execution_count": 16,
      "outputs": []
    },
    {
      "cell_type": "markdown",
      "metadata": {
        "id": "ynxr5gLZ-o_0"
      },
      "source": [
        "#  Deal with NaNs"
      ]
    },
    {
      "cell_type": "code",
      "metadata": {
        "id": "Ylcv0VCN-4V0"
      },
      "source": [
        "def missing_values_table(df):\n",
        "    mis_val = df.isnull().sum()\n",
        "    mis_val_percent = 100 * df.isna().sum() / len(df)\n",
        "    mis_val_table = pd.concat([mis_val, mis_val_percent], axis=1)\n",
        "    mis_val_table_ren_columns = mis_val_table.rename(\n",
        "    columns = {0 : 'Missing Values', 1 : '% of Total Values'})\n",
        "    mis_val_table_ren_columns = mis_val_table_ren_columns[\n",
        "        mis_val_table_ren_columns.iloc[:,1] != 0].sort_values(\n",
        "    '% of Total Values', ascending=False).round(1)\n",
        "    print (\"Your selected dataframe has \" + str(df.shape[1]) + \" columns.\\n\"      \n",
        "        \"There are \" + str(mis_val_table_ren_columns.shape[0]) +\n",
        "            \" columns that have missing values.\")\n",
        "    return mis_val_table_ren_columns"
      ],
      "execution_count": 17,
      "outputs": []
    },
    {
      "cell_type": "code",
      "metadata": {
        "colab": {
          "base_uri": "https://localhost:8080/"
        },
        "id": "0cLdIssz_BSD",
        "outputId": "e1d534ea-85e2-4650-93c1-89362c253764"
      },
      "source": [
        "missing_values=missing_values_table(df2)"
      ],
      "execution_count": 18,
      "outputs": [
        {
          "output_type": "stream",
          "name": "stdout",
          "text": [
            "Your selected dataframe has 212 columns.\n",
            "There are 178 columns that have missing values.\n"
          ]
        }
      ]
    },
    {
      "cell_type": "code",
      "metadata": {
        "id": "0tr30nA__0r-"
      },
      "source": [
        "throw_variables=missing_values[missing_values['% of Total Values']>55]\n",
        "keep_variables=missing_values[missing_values['% of Total Values']<=55]"
      ],
      "execution_count": 19,
      "outputs": []
    },
    {
      "cell_type": "code",
      "metadata": {
        "colab": {
          "base_uri": "https://localhost:8080/"
        },
        "id": "b8koMeivACpO",
        "outputId": "e4bd9076-0087-462b-8e24-09fbd7acdbd4"
      },
      "source": [
        "# iterating the columns\n",
        "throw_variables\n",
        "for row in throw_variables.index:\n",
        "    print(row, end = \" \")"
      ],
      "execution_count": 20,
      "outputs": [
        {
          "output_type": "stream",
          "name": "stdout",
          "text": [
            "VAR185 VAR108 VAR145 VAR188 VAR158 VAR202 VAR207 VAR38 VAR152 VAR209 VAR208 "
          ]
        }
      ]
    },
    {
      "cell_type": "code",
      "metadata": {
        "id": "5FnnGneogrf7"
      },
      "source": [
        ""
      ],
      "execution_count": 20,
      "outputs": []
    },
    {
      "cell_type": "code",
      "metadata": {
        "id": "9YJgUrWedGpQ"
      },
      "source": [
        "#drop mostly na features\n",
        "\n",
        "df2= df2.drop(columns=[row for row in throw_variables.index])\n",
        "\n",
        "#drop mostly na features\n",
        "X_test2= X_test2.drop(columns=[row for row in throw_variables.index])\n",
        "\n",
        "\n",
        "\n",
        "# #fill not-a-numbers with the median\n",
        "X_test2.fillna(X_test2.median(), inplace=True)\n",
        "\n",
        "\n",
        "\n",
        "# #fill not-a-numbers with the median\n",
        "df2.fillna(df2.median(), inplace=True)\n",
        "\n",
        "\n",
        "\n",
        "\n",
        "Y2=np.array(Labels2)[:,1]\n",
        "\n"
      ],
      "execution_count": 21,
      "outputs": []
    },
    {
      "cell_type": "code",
      "metadata": {
        "id": "XVD9FFyeCk01"
      },
      "source": [
        "\n",
        "numerical_cols =[ind for ind in keep_variables.index if ind not in [\"VAR32\",\"VAR65\",\"VAR195\"]]\n",
        "categorical_cols = [\"VAR32\",\"VAR65\",\"VAR195\"]\n",
        "df2= df2.drop(columns=categorical_cols)\n",
        "X_train=df2\n",
        "\n",
        "X_test2= X_test2.drop(columns=categorical_cols)\n",
        "# Inputing numerical values with median\n",
        "numerical_transformer = SimpleImputer(strategy='median')\n",
        "# # Inputing missing values with most frequent one for categorical data\n",
        "# categorical_transformer = Pipeline(steps=[\n",
        "#     ('imputer', SimpleImputer(strategy='most_frequent')),\n",
        "#     ('onehot', OneHotEncoder(handle_unknown='ignore'))\n",
        "# ])\n",
        "\n",
        "# Bundle preprocessing for numerical and categorical data\n",
        "preprocessor = ColumnTransformer(\n",
        "    transformers=[\n",
        "        ('num', numerical_transformer, numerical_cols)\n",
        "       # ,        ('cat', categorical_transformer, categorical_cols)\n",
        "    ])\n",
        "\n",
        "\n",
        "preprocess_pipeline=Pipeline(steps=[\n",
        "    ('preprocessor', preprocessor)\n",
        "])\n",
        "X_train_temp=preprocess_pipeline.fit_transform(X_train)\n",
        "\n"
      ],
      "execution_count": 24,
      "outputs": []
    },
    {
      "cell_type": "code",
      "metadata": {
        "id": "_ZLHrrhJNRGq"
      },
      "source": [
        "df.shape"
      ],
      "execution_count": null,
      "outputs": []
    },
    {
      "cell_type": "code",
      "metadata": {
        "id": "UhgC3RrizzJX"
      },
      "source": [
        "# train a random forest\n",
        "#from sklearn.model_selection import GridSearchCV\n",
        "rfc=RandomForestClassifier()#n_estimators=80,max_depth=7)\n",
        "# rfc2=RandomForestClassifier()#n_estimators=80,max_depth=5)\n",
        "# rfc3=RandomForestClassifier()#n_estimators=80,max_depth=7)\n"
      ],
      "execution_count": 25,
      "outputs": []
    },
    {
      "cell_type": "markdown",
      "metadata": {
        "id": "sRPyAFa7zvP3"
      },
      "source": [
        "## Hyperparameter Search for Target 2\n",
        "\n",
        "\n"
      ]
    },
    {
      "cell_type": "code",
      "metadata": {
        "colab": {
          "base_uri": "https://localhost:8080/"
        },
        "id": "SwOZgJa0HSHI",
        "outputId": "c55b9147-7ed8-4873-9a29-23c16b766aae"
      },
      "source": [
        "X_train_temp.shape"
      ],
      "execution_count": 26,
      "outputs": [
        {
          "output_type": "execute_result",
          "data": {
            "text/plain": [
              "(9000, 164)"
            ]
          },
          "metadata": {},
          "execution_count": 26
        }
      ]
    },
    {
      "cell_type": "code",
      "metadata": {
        "colab": {
          "base_uri": "https://localhost:8080/"
        },
        "id": "7Q1LYyfjyt_t",
        "outputId": "345f9129-b189-4b2c-d2dc-fa4301ae7e38"
      },
      "source": [
        "\n",
        "# Number of trees in Random Forest\n",
        "rf_n_estimators = [int(x) for x in np.linspace(50, 150, 10)]\n",
        "rf_n_estimators.append(300)\n",
        "rf_n_estimators.append(400)\n",
        "\n",
        "# Maximum number of levels in tree\n",
        "rf_max_depth = [int(x) for x in np.linspace(5, 11, 3)]\n",
        "# Add the default as a possible value\n",
        "rf_max_depth.append(None)\n",
        "\n",
        "# Number of features to consider at every split\n",
        "rf_max_features = ['auto', 'sqrt', 'log2']\n",
        "\n",
        "# Criterion to split on\n",
        "rf_criterion = ['gini', 'entropy']\n",
        "\n",
        "# Minimum number of samples required to split a node\n",
        "rf_min_samples_split = [int(x) for x in np.linspace(2, 6, 2)]\n",
        "\n",
        "# Minimum decrease in impurity required for split to happen\n",
        "rf_min_impurity_decrease = [0.0, 0.05, 0.5]\n",
        "\n",
        "# Since the data is huge, no need to turn off bootstrapping\n",
        "# # Method of selecting samples for training each tree\n",
        "rf_bootstrap = [True]#, False]\n",
        "\n",
        "# Create the grid\n",
        "rf_grid = {'n_estimators': rf_n_estimators,\n",
        "               'max_depth': rf_max_depth,\n",
        "               'max_features': rf_max_features,\n",
        "               'criterion': rf_criterion,\n",
        "               'min_samples_split': rf_min_samples_split,\n",
        "               'min_impurity_decrease': rf_min_impurity_decrease,\n",
        "               'bootstrap': rf_bootstrap}\n",
        "\n",
        "\n",
        "clf = RandomizedSearchCV(RandomForestClassifier(), rf_grid, n_iter=100, random_state=0)\n",
        "search = clf.fit(X_train,Y2)\n",
        "search.best_params_\n"
      ],
      "execution_count": 28,
      "outputs": [
        {
          "output_type": "execute_result",
          "data": {
            "text/plain": [
              "{'bootstrap': True,\n",
              " 'criterion': 'entropy',\n",
              " 'max_depth': None,\n",
              " 'max_features': 'sqrt',\n",
              " 'min_impurity_decrease': 0.0,\n",
              " 'min_samples_split': 6,\n",
              " 'n_estimators': 83}"
            ]
          },
          "metadata": {},
          "execution_count": 28
        }
      ]
    },
    {
      "cell_type": "code",
      "metadata": {
        "id": "18U_hvA2IK2A"
      },
      "source": [
        "best_params=search.best_params_"
      ],
      "execution_count": 29,
      "outputs": []
    },
    {
      "cell_type": "code",
      "metadata": {
        "id": "Hlm70wsgBg5j"
      },
      "source": [
        "# Bundle preprocessing and modeling code \n",
        "pipeline = Pipeline(steps=[\n",
        "    ('preprocessor', preprocessor),\n",
        "    ('model', RandomForestClassifier(**{'bootstrap': True,\n",
        " 'criterion': 'entropy',\n",
        " 'max_depth': 7,\n",
        " 'max_features': 'sqrt',\n",
        " 'min_impurity_decrease': 0.0,\n",
        " 'min_samples_split': 6,\n",
        " 'n_estimators': 83}))#**best_params))\n",
        "])\n"
      ],
      "execution_count": 37,
      "outputs": []
    },
    {
      "cell_type": "code",
      "metadata": {
        "id": "ctsj_FrBx3YC"
      },
      "source": [
        "#fit and evaluate posterior for training set\n",
        "pipeline.fit(X_train, Y2)\n",
        "Y_pred2=pipeline.predict_proba(X_train)[:,1]\n",
        "\n"
      ],
      "execution_count": 38,
      "outputs": []
    },
    {
      "cell_type": "code",
      "metadata": {
        "colab": {
          "base_uri": "https://localhost:8080/"
        },
        "id": "tI-UqeB5qYUU",
        "outputId": "bc70327d-7d82-474b-d714-9c9aae4aa699"
      },
      "source": [
        "\n",
        "#rfc.best_params_\n",
        "#calculate mean auroc using 10-fold cross validation\n",
        "from sklearn.model_selection import cross_validate\n",
        "scores = cross_validate(pipeline, X_train, Y2, cv=5, scoring=('roc_auc'), return_train_score=True)\n",
        "print(\"Mean AUROC for target 1 is:\")\n",
        "print(np.mean(scores['test_score']))\n",
        "\n",
        "# evaluate posteriors on the test set\n",
        "\n",
        "Y_test2=Y_rf2.predict_proba(X_test2)\n",
        "#concatanate with ID\n",
        "Y_o2=np.concatenate((np.array(X_test2[\"ID\"]).reshape((-1,1)),Y_test2[:,1].reshape((-1,1))),1)\n",
        "\n",
        "write predictions to csv files\n",
        "pd.DataFrame(Y_o2).to_csv(\"hw07_target2_test_predictions.csv\",header=[\"ID\",\"TARGET\"],index=None)\n",
        "\n"
      ],
      "execution_count": 39,
      "outputs": [
        {
          "output_type": "stream",
          "name": "stdout",
          "text": [
            "Mean AUROC for target 1 is:\n",
            "0.7953467121055908\n"
          ]
        }
      ]
    },
    {
      "cell_type": "code",
      "metadata": {
        "colab": {
          "base_uri": "https://localhost:8080/"
        },
        "id": "tMylG-pxhtdt",
        "outputId": "10e7205f-8bf3-454f-bb61-8d7c0650c340"
      },
      "source": [
        "scores['test_score']"
      ],
      "execution_count": 40,
      "outputs": [
        {
          "output_type": "execute_result",
          "data": {
            "text/plain": [
              "array([0.79783402, 0.78027253, 0.78549247, 0.80180825, 0.81132629])"
            ]
          },
          "metadata": {},
          "execution_count": 40
        }
      ]
    },
    {
      "cell_type": "code",
      "metadata": {
        "colab": {
          "base_uri": "https://localhost:8080/"
        },
        "id": "dr_45o7xhuWO",
        "outputId": "3a43b021-d289-4f04-b404-4c3e304f7199"
      },
      "source": [
        "scores['train_score']"
      ],
      "execution_count": 41,
      "outputs": [
        {
          "output_type": "execute_result",
          "data": {
            "text/plain": [
              "array([0.98505398, 0.98581662, 0.98947876, 0.98682878, 0.98896093])"
            ]
          },
          "metadata": {},
          "execution_count": 41
        }
      ]
    },
    {
      "cell_type": "code",
      "metadata": {
        "colab": {
          "base_uri": "https://localhost:8080/",
          "height": 294
        },
        "id": "qZdBvwttqlXN",
        "outputId": "a37ad520-bd3e-41aa-f586-8d9c7af35b8d"
      },
      "source": [
        "# plot ROC curve\n",
        "from sklearn import metrics\n",
        "#fpr, tpr, threshold = metrics.roc_curve(Y, Y_pred)\n",
        "fpr2, tpr2, threshold = metrics.roc_curve(Y2, Y_pred2)\n",
        "# fpr3, tpr3, threshold = metrics.roc_curve(Y3, Y_pred3)\n",
        "\n",
        "import matplotlib.pyplot as plt\n",
        "plt.title('Receiver Operating Characteristic for target 2')\n",
        "#plt.plot(fpr, tpr, 'b')\n",
        "plt.plot(fpr2, tpr2, 'r')\n",
        "# plt.plot(fpr3, tpr3, 'g')\n",
        "plt.ylabel('True Positive Rate')\n",
        "plt.xlabel('False Positive Rate')\n",
        "# plt.legend(('target 1','target 2','target 3'))\n",
        "plt.show()"
      ],
      "execution_count": 42,
      "outputs": [
        {
          "output_type": "display_data",
          "data": {
            "image/png": "[encoded data removed]",
            "text/plain": [
              "<Figure size 432x288 with 1 Axes>"
            ]
          },
          "metadata": {
            "needs_background": "light"
          }
        }
      ]
    },
    {
      "cell_type": "code",
      "metadata": {
        "id": "MWmrRhQUKf-b"
      },
      "source": [
        "#rfc.best_params_\n",
        "#calculate mean auroc using 10-fold cross validation\n",
        "from sklearn.model_selection import cross_validate\n",
        "scores = cross_validate(pipeline, X_train, Y, cv=10, scoring=('roc_auc'), return_train_score=True)\n",
        "print(\"Mean AUROC for target 1 is:\")\n",
        "print(np.mean(scores['test_score']))"
      ],
      "execution_count": null,
      "outputs": []
    },
    {
      "cell_type": "code",
      "metadata": {
        "id": "SzbH2z3SK7bY"
      },
      "source": [
        ""
      ],
      "execution_count": null,
      "outputs": []
    }
  ]
}